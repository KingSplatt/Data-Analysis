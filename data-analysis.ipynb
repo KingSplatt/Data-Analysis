{
 "cells": [
  {
   "cell_type": "code",
   "execution_count": 262,
   "metadata": {
    "_cell_guid": "b1076dfc-b9ad-4769-8c92-a6c4dae69d19",
    "_uuid": "8f2839f25d086af736a60e9eeb907d3b93b6e0e5",
    "execution": {
     "iopub.execute_input": "2024-11-29T21:20:38.684428Z",
     "iopub.status.busy": "2024-11-29T21:20:38.684049Z",
     "iopub.status.idle": "2024-11-29T21:20:39.901184Z",
     "shell.execute_reply": "2024-11-29T21:20:39.900100Z",
     "shell.execute_reply.started": "2024-11-29T21:20:38.684379Z"
    },
    "trusted": true
   },
   "outputs": [],
   "source": [
    "# This Python 3 environment comes with many helpful analytics libraries installed\n",
    "# It is defined by the kaggle/python Docker image: https://github.com/kaggle/docker-python\n",
    "# For example, here's several helpful packages to load\n",
    "import numpy as np # linear algebra\n",
    "import pandas as pd # data processing, CSV file I/O (e.g. pd.read_csv)\n",
    "# Input data files are available in the read-only \"../input/\" directory\n",
    "# For example, running this (by clicking run or pressing Shift+Enter) will list all files under the input directory\n",
    "import os\n",
    "for dirname, _, filenames in os.walk('/kaggle/input'):\n",
    "    for filename in filenames:\n",
    "        print(os.path.join(dirname, filename))\n",
    "# You can write up to 20GB to the current directory (/kaggle/working/) that gets preserved as output when you create a version using \"Save & Run All\" \n",
    "# You can also write temporary files to /kaggle/temp/, but they won't be saved outside of the current session"
   ]
  },
  {
   "cell_type": "markdown",
   "metadata": {},
   "source": [
    "## Limpieza de los datos\n",
    "\n",
    "\n",
    "\n",
    "1. Cargar los datos"
   ]
  },
  {
   "cell_type": "code",
   "execution_count": 263,
   "metadata": {
    "execution": {
     "iopub.execute_input": "2024-11-29T21:20:44.717615Z",
     "iopub.status.busy": "2024-11-29T21:20:44.717098Z",
     "iopub.status.idle": "2024-11-29T21:20:45.032127Z",
     "shell.execute_reply": "2024-11-29T21:20:45.030858Z",
     "shell.execute_reply.started": "2024-11-29T21:20:44.717581Z"
    },
    "trusted": true
   },
   "outputs": [],
   "source": [
    "calificaciones = pd.read_csv(\"./Datos/calificaciones.csv\")\n",
    "estudiantes = pd.read_csv(\"./Datos/estudiantes.csv\")\n",
    "carreras = pd.read_csv(\"./Datos/carrera.csv\")\n",
    "escuelas = pd.read_csv(\"./Datos/escuelas.csv\")"
   ]
  },
  {
   "cell_type": "markdown",
   "metadata": {},
   "source": [
    "### Primero eliminamos a aquellos estudiantes que su \"prepa\" no esta registrada como escuela y despues unimos los datasets de estudiantes y escuelas\n",
    "\n",
    "con esto se quitaron aprox. 2000-3000 filas"
   ]
  },
  {
   "cell_type": "code",
   "execution_count": 264,
   "metadata": {
    "execution": {
     "iopub.execute_input": "2024-11-29T21:19:39.283786Z",
     "iopub.status.busy": "2024-11-29T21:19:39.283359Z",
     "iopub.status.idle": "2024-11-29T21:19:39.295720Z",
     "shell.execute_reply": "2024-11-29T21:19:39.294673Z",
     "shell.execute_reply.started": "2024-11-29T21:19:39.283748Z"
    },
    "trusted": true
   },
   "outputs": [],
   "source": [
    "ciud = pd.DataFrame(estudiantes[\"ciudad\"].unique(), columns=[\"ciudad\"])\n",
    "correcta = pd.merge(estudiantes, escuelas[['clave']], left_on='prepa', right_on='clave', how='inner')\n"
   ]
  },
  {
   "cell_type": "markdown",
   "metadata": {},
   "source": [
    "### Ahora se filtran todas las calificaciones de alumnos, si la clave del alumno no esta registrada en alumnos se descartan."
   ]
  },
  {
   "cell_type": "code",
   "execution_count": 265,
   "metadata": {
    "execution": {
     "iopub.execute_input": "2024-11-29T21:21:37.188641Z",
     "iopub.status.busy": "2024-11-29T21:21:37.188235Z",
     "iopub.status.idle": "2024-11-29T21:21:37.273329Z",
     "shell.execute_reply": "2024-11-29T21:21:37.271952Z",
     "shell.execute_reply.started": "2024-11-29T21:21:37.188605Z"
    },
    "trusted": true
   },
   "outputs": [],
   "source": [
    "correcta2 = pd.merge(calificaciones, estudiantes[['clave_alumno']], left_on='clave_alumno', right_on='clave_alumno', how='inner')\n",
    "#correcta2.sort_values('clave_alumno')\n"
   ]
  },
  {
   "cell_type": "markdown",
   "metadata": {},
   "source": [
    "### Se filtran a aquellos estudiantes que necesitamos solamente, aquellos que siguen vigentes y que no han terminado sus estudios"
   ]
  },
  {
   "cell_type": "code",
   "execution_count": 266,
   "metadata": {
    "execution": {
     "iopub.execute_input": "2024-11-29T21:21:46.786729Z",
     "iopub.status.busy": "2024-11-29T21:21:46.786308Z",
     "iopub.status.idle": "2024-11-29T21:21:46.808244Z",
     "shell.execute_reply": "2024-11-29T21:21:46.806971Z",
     "shell.execute_reply.started": "2024-11-29T21:21:46.786693Z"
    },
    "trusted": true
   },
   "outputs": [
    {
     "data": {
      "text/html": [
       "<div>\n",
       "<style scoped>\n",
       "    .dataframe tbody tr th:only-of-type {\n",
       "        vertical-align: middle;\n",
       "    }\n",
       "\n",
       "    .dataframe tbody tr th {\n",
       "        vertical-align: top;\n",
       "    }\n",
       "\n",
       "    .dataframe thead th {\n",
       "        text-align: right;\n",
       "    }\n",
       "</style>\n",
       "<table border=\"1\" class=\"dataframe\">\n",
       "  <thead>\n",
       "    <tr style=\"text-align: right;\">\n",
       "      <th></th>\n",
       "      <th>clave_alumno</th>\n",
       "      <th>clave_carrera</th>\n",
       "      <th>sexo</th>\n",
       "      <th>prepa</th>\n",
       "      <th>colonia</th>\n",
       "      <th>municipio</th>\n",
       "      <th>ciudad</th>\n",
       "      <th>ingreso</th>\n",
       "      <th>termino</th>\n",
       "      <th>causa_salida</th>\n",
       "    </tr>\n",
       "  </thead>\n",
       "  <tbody>\n",
       "    <tr>\n",
       "      <th>607</th>\n",
       "      <td>3327</td>\n",
       "      <td>4</td>\n",
       "      <td>1</td>\n",
       "      <td>121</td>\n",
       "      <td>BUENOS</td>\n",
       "      <td>25006.0</td>\n",
       "      <td>CULIACAN</td>\n",
       "      <td>2043.0</td>\n",
       "      <td>NaN</td>\n",
       "      <td>1</td>\n",
       "    </tr>\n",
       "    <tr>\n",
       "      <th>648</th>\n",
       "      <td>4420</td>\n",
       "      <td>4</td>\n",
       "      <td>1</td>\n",
       "      <td>154</td>\n",
       "      <td>El Walamo</td>\n",
       "      <td>25011.0</td>\n",
       "      <td>GUASAVE</td>\n",
       "      <td>2053.0</td>\n",
       "      <td>NaN</td>\n",
       "      <td>1</td>\n",
       "    </tr>\n",
       "    <tr>\n",
       "      <th>662</th>\n",
       "      <td>4434</td>\n",
       "      <td>4</td>\n",
       "      <td>1</td>\n",
       "      <td>127</td>\n",
       "      <td>Alcanfores</td>\n",
       "      <td>25018.0</td>\n",
       "      <td>NAVOLATO</td>\n",
       "      <td>2053.0</td>\n",
       "      <td>NaN</td>\n",
       "      <td>1</td>\n",
       "    </tr>\n",
       "    <tr>\n",
       "      <th>668</th>\n",
       "      <td>4440</td>\n",
       "      <td>4</td>\n",
       "      <td>1</td>\n",
       "      <td>117</td>\n",
       "      <td>Los Angeles</td>\n",
       "      <td>25006.0</td>\n",
       "      <td>CULIACAN</td>\n",
       "      <td>2053.0</td>\n",
       "      <td>NaN</td>\n",
       "      <td>1</td>\n",
       "    </tr>\n",
       "    <tr>\n",
       "      <th>671</th>\n",
       "      <td>4443</td>\n",
       "      <td>4</td>\n",
       "      <td>1</td>\n",
       "      <td>142</td>\n",
       "      <td>NaN</td>\n",
       "      <td>25002.0</td>\n",
       "      <td>LA REFORMA ANG.</td>\n",
       "      <td>2053.0</td>\n",
       "      <td>NaN</td>\n",
       "      <td>1</td>\n",
       "    </tr>\n",
       "    <tr>\n",
       "      <th>...</th>\n",
       "      <td>...</td>\n",
       "      <td>...</td>\n",
       "      <td>...</td>\n",
       "      <td>...</td>\n",
       "      <td>...</td>\n",
       "      <td>...</td>\n",
       "      <td>...</td>\n",
       "      <td>...</td>\n",
       "      <td>...</td>\n",
       "      <td>...</td>\n",
       "    </tr>\n",
       "    <tr>\n",
       "      <th>11930</th>\n",
       "      <td>11738</td>\n",
       "      <td>8</td>\n",
       "      <td>2</td>\n",
       "      <td>98</td>\n",
       "      <td>Fovissste Playa Azul</td>\n",
       "      <td>25006.0</td>\n",
       "      <td>CULIACAN</td>\n",
       "      <td>2103.0</td>\n",
       "      <td>NaN</td>\n",
       "      <td>1</td>\n",
       "    </tr>\n",
       "    <tr>\n",
       "      <th>11931</th>\n",
       "      <td>11739</td>\n",
       "      <td>8</td>\n",
       "      <td>1</td>\n",
       "      <td>91</td>\n",
       "      <td>LA</td>\n",
       "      <td>25006.0</td>\n",
       "      <td>CULIACAN</td>\n",
       "      <td>2103.0</td>\n",
       "      <td>NaN</td>\n",
       "      <td>1</td>\n",
       "    </tr>\n",
       "    <tr>\n",
       "      <th>11932</th>\n",
       "      <td>11740</td>\n",
       "      <td>8</td>\n",
       "      <td>1</td>\n",
       "      <td>71</td>\n",
       "      <td>BALCONES</td>\n",
       "      <td>25006.0</td>\n",
       "      <td>CULIACAN</td>\n",
       "      <td>2103.0</td>\n",
       "      <td>NaN</td>\n",
       "      <td>1</td>\n",
       "    </tr>\n",
       "    <tr>\n",
       "      <th>11933</th>\n",
       "      <td>11825</td>\n",
       "      <td>8</td>\n",
       "      <td>1</td>\n",
       "      <td>26</td>\n",
       "      <td>San Miguel</td>\n",
       "      <td>25006.0</td>\n",
       "      <td>CULIACAN</td>\n",
       "      <td>2103.0</td>\n",
       "      <td>NaN</td>\n",
       "      <td>1</td>\n",
       "    </tr>\n",
       "    <tr>\n",
       "      <th>11934</th>\n",
       "      <td>11831</td>\n",
       "      <td>8</td>\n",
       "      <td>1</td>\n",
       "      <td>70</td>\n",
       "      <td>ADOLFO</td>\n",
       "      <td>25006.0</td>\n",
       "      <td>CULIACAN</td>\n",
       "      <td>2103.0</td>\n",
       "      <td>NaN</td>\n",
       "      <td>1</td>\n",
       "    </tr>\n",
       "  </tbody>\n",
       "</table>\n",
       "<p>4076 rows × 10 columns</p>\n",
       "</div>"
      ],
      "text/plain": [
       "       clave_alumno  clave_carrera  sexo  prepa               colonia  \\\n",
       "607            3327              4     1    121                BUENOS   \n",
       "648            4420              4     1    154             El Walamo   \n",
       "662            4434              4     1    127            Alcanfores   \n",
       "668            4440              4     1    117           Los Angeles   \n",
       "671            4443              4     1    142                   NaN   \n",
       "...             ...            ...   ...    ...                   ...   \n",
       "11930         11738              8     2     98  Fovissste Playa Azul   \n",
       "11931         11739              8     1     91                    LA   \n",
       "11932         11740              8     1     71              BALCONES   \n",
       "11933         11825              8     1     26            San Miguel   \n",
       "11934         11831              8     1     70                ADOLFO   \n",
       "\n",
       "       municipio           ciudad  ingreso  termino  causa_salida  \n",
       "607      25006.0         CULIACAN   2043.0      NaN             1  \n",
       "648      25011.0          GUASAVE   2053.0      NaN             1  \n",
       "662      25018.0         NAVOLATO   2053.0      NaN             1  \n",
       "668      25006.0         CULIACAN   2053.0      NaN             1  \n",
       "671      25002.0  LA REFORMA ANG.   2053.0      NaN             1  \n",
       "...          ...              ...      ...      ...           ...  \n",
       "11930    25006.0         CULIACAN   2103.0      NaN             1  \n",
       "11931    25006.0         CULIACAN   2103.0      NaN             1  \n",
       "11932    25006.0         CULIACAN   2103.0      NaN             1  \n",
       "11933    25006.0         CULIACAN   2103.0      NaN             1  \n",
       "11934    25006.0         CULIACAN   2103.0      NaN             1  \n",
       "\n",
       "[4076 rows x 10 columns]"
      ]
     },
     "execution_count": 266,
     "metadata": {},
     "output_type": "execute_result"
    }
   ],
   "source": [
    "mainData = estudiantes[(estudiantes['termino'].isnull()) & (estudiantes['causa_salida']==1)]\n",
    "#correcta3.sort_values('clave_alumno')\n",
    "mainData"
   ]
  },
  {
   "cell_type": "markdown",
   "metadata": {},
   "source": [
    "### Aqui ponemos la clave de los municipios correctos, si encuentra otra clave pone por default la de culiacan"
   ]
  },
  {
   "cell_type": "code",
   "execution_count": 267,
   "metadata": {},
   "outputs": [
    {
     "name": "stderr",
     "output_type": "stream",
     "text": [
      "C:\\Users\\mari_\\AppData\\Local\\Temp\\ipykernel_16092\\751862216.py:2: SettingWithCopyWarning: \n",
      "A value is trying to be set on a copy of a slice from a DataFrame.\n",
      "Try using .loc[row_indexer,col_indexer] = value instead\n",
      "\n",
      "See the caveats in the documentation: https://pandas.pydata.org/pandas-docs/stable/user_guide/indexing.html#returning-a-view-versus-a-copy\n",
      "  mainData['ciudad'] = mainData['municipio'].apply(lambda x: 'Los Mochis' if x == 25001 else 'Angostura' if x == 25002 else 'Badiraguato' if x == 25003 else 'Concordia' if x == 25004 else 'Cosala' if x == 25005 else 'Culiacan' if x == 25006 else 'Choix' if x == 25007 else 'La Cruz' if x == 25008 else 'Escuinapa' if x == 25009 else 'El Fuerte' if x == 25010 else 'Guasave' if x == 25011 else 'Mazatlan' if x == 25012 else 'Mocorito' if x == 25013 else 'Rosario' if x == 25014 else 'Guamuchil' if x == 25015 else 'San Ignacio' if x == 25016 else 'Sinaloa de Leyva' if x == 25017 else 'Navolato' if x == 25018 else 'ElDorado' if x == 25019 else 'Juan Jose Rios' if x == 25020 else 'No encontrado')\n",
      "C:\\Users\\mari_\\AppData\\Local\\Temp\\ipykernel_16092\\751862216.py:9: SettingWithCopyWarning: \n",
      "A value is trying to be set on a copy of a slice from a DataFrame.\n",
      "Try using .loc[row_indexer,col_indexer] = value instead\n",
      "\n",
      "See the caveats in the documentation: https://pandas.pydata.org/pandas-docs/stable/user_guide/indexing.html#returning-a-view-versus-a-copy\n",
      "  mainData['municipio'] = mainData['municipio'].apply(lambda x: clave_cul if x not in clave_municipios else x)\n"
     ]
    }
   ],
   "source": [
    "#los municipios con clave le asignamos su ciudad correspondiente\n",
    "mainData['ciudad'] = mainData['municipio'].apply(lambda x: 'Los Mochis' if x == 25001 else 'Angostura' if x == 25002 else 'Badiraguato' if x == 25003 else 'Concordia' if x == 25004 else 'Cosala' if x == 25005 else 'Culiacan' if x == 25006 else 'Choix' if x == 25007 else 'La Cruz' if x == 25008 else 'Escuinapa' if x == 25009 else 'El Fuerte' if x == 25010 else 'Guasave' if x == 25011 else 'Mazatlan' if x == 25012 else 'Mocorito' if x == 25013 else 'Rosario' if x == 25014 else 'Guamuchil' if x == 25015 else 'San Ignacio' if x == 25016 else 'Sinaloa de Leyva' if x == 25017 else 'Navolato' if x == 25018 else 'ElDorado' if x == 25019 else 'Juan Jose Rios' if x == 25020 else 'No encontrado')\n",
    "#para los municipios que no tienen bien su clave se le asignan por default a culiacan\n",
    "clave_municipios = [25001, 25002, 25003, 25004, 25005, 25006, 25007, 25008, 25009, 25010, 25011, 25012, 25013, 25014, 25015, 25016, 25017, 25018, 25019, 25020]\n",
    "clave_cul = 25006\n",
    "#si no esta en la lista de claves de municipios se le asigna a culiacan\n",
    "mainData.loc[~mainData['municipio'].isin(clave_municipios), 'ciudad'] = 'Culiacan'\n",
    "#ahora cambiamos los municipios que estan mal a la clave de culiacan\n",
    "mainData['municipio'] = mainData['municipio'].apply(lambda x: clave_cul if x not in clave_municipios else x)\n"
   ]
  },
  {
   "cell_type": "markdown",
   "metadata": {},
   "source": [
    "### Aqui limpiamos algunas colonias que tienen problemas con el nombre y quitamos acentos a algunas de ellas"
   ]
  },
  {
   "cell_type": "code",
   "execution_count": 268,
   "metadata": {
    "execution": {
     "iopub.execute_input": "2024-11-29T21:21:57.889785Z",
     "iopub.status.busy": "2024-11-29T21:21:57.888758Z",
     "iopub.status.idle": "2024-11-29T21:21:57.913981Z",
     "shell.execute_reply": "2024-11-29T21:21:57.912404Z",
     "shell.execute_reply.started": "2024-11-29T21:21:57.889728Z"
    },
    "trusted": true
   },
   "outputs": [
    {
     "name": "stderr",
     "output_type": "stream",
     "text": [
      "C:\\Users\\mari_\\AppData\\Local\\Temp\\ipykernel_16092\\3258586360.py:1: SettingWithCopyWarning: \n",
      "A value is trying to be set on a copy of a slice from a DataFrame.\n",
      "Try using .loc[row_indexer,col_indexer] = value instead\n",
      "\n",
      "See the caveats in the documentation: https://pandas.pydata.org/pandas-docs/stable/user_guide/indexing.html#returning-a-view-versus-a-copy\n",
      "  mainData['colonia'] = mainData['colonia'].replace({\n",
      "C:\\Users\\mari_\\AppData\\Local\\Temp\\ipykernel_16092\\3258586360.py:90: SettingWithCopyWarning: \n",
      "A value is trying to be set on a copy of a slice from a DataFrame.\n",
      "Try using .loc[row_indexer,col_indexer] = value instead\n",
      "\n",
      "See the caveats in the documentation: https://pandas.pydata.org/pandas-docs/stable/user_guide/indexing.html#returning-a-view-versus-a-copy\n",
      "  mainData['colonia'] = mainData['colonia'].str.normalize('NFKD').str.encode('ascii', errors='ignore').str.decode('utf-8')\n"
     ]
    }
   ],
   "source": [
    "mainData['colonia'] = mainData['colonia'].replace({\n",
    "    '21': '21 DE MARZO', \n",
    "    '21DE': '21 DE MARZO',\n",
    "    'ADF': 'ADOLFO LOPEZ MATEOS',\n",
    "    'ADOLFO': 'ADOLFO LOPEZ MATEOS',\n",
    "    'Adolfo': 'ADOLFO LOPEZ MATEOS',\n",
    "    'Adolfo Lopez Mateos': 'ADOLFO LOPEZ MATEOS',\n",
    "    'adolfo': 'ADOLFO LOPEZ MATEOS',\n",
    "    'AF': 'ADOLFO LOPEZ MATEOS',\n",
    "    'AGRI.': 'COLONIA AGRICOLA MEXICO',\n",
    "    'AGRICOLA': 'COLONIA AGRICOLA MEXICO',\n",
    "    'COL.AGRICOLA': 'COLONIA AGRICOLA MEXICO',\n",
    "    'COLONIA AGRICOLA M√âXICO': 'COLONIA AGRICOLA MEXICO',\n",
    "    'COLONIA AGRICOLA M√âXICO': 'COLONIA AGRICOLA MEXICO',\n",
    "    'col.agricola': 'COLONIA AGRICOLA MEXICO',\n",
    "    'Colonia Agricola Mexico': 'COLONIA AGRICOLA MEXICO',\n",
    "    'COL.agricola': 'COLONIA AGRICOLA MEXICO',\n",
    "    'AGUA': 'AGUACALIENTE',\n",
    "    'AGUA CALIENTE': 'AGUACALIENTE',\n",
    "    'ALFONSO': 'ALFONSO G. CALDERON',\n",
    "    'Alfonso G Calderon': 'ALFONSO G. CALDERON',\n",
    "    'AMP.TOLEDO': 'AMP. TOLEDO',\n",
    "    'ALTURAS': 'ALTURAS DEL SUR',\n",
    "    'AMADO': 'AMADO NERVO',\n",
    "    'AQUILES': 'AQUILES SERDAN',\n",
    "    'BALCONES': 'BALCONES DE NUEVO CULIACAN',\n",
    "    'balcones': 'BALCONES DE NUEVO CULIACAN',\n",
    "    'Balcones de Nuevo Culiac√°n': 'BALCONES DE NUEVO CULIACAN',\n",
    "    'BUENOS': 'BUENOS AIRES',\n",
    "    'Buenos Aires': 'BUENOS AIRES',\n",
    "    'buenos': 'BUENOS AIRES',\n",
    "    'BUENA': 'BUENA VISTA',\n",
    "    'CNOP': 'AMP. CNOP',\n",
    "    'AMPL.CNOP': 'AMP. CNOP',\n",
    "    'CU': 'CD. UNIVERSITARIA',\n",
    "    'C.U': 'CD. UNIVERSITARIA',\n",
    "    'CIUDADES': 'CIUDADES HERMANAS',\n",
    "    'CD.': 'CIUDADES HERMANAS',\n",
    "    'CD. HERMANAS': 'CIUDADES HERMANAS',\n",
    "    'cd.hermanas': 'CIUDADES HERMANAS',\n",
    "    'CHULA': 'CHULAVISTA',\n",
    "    'CHULA VISTA': 'CHULAVISTA',\n",
    "    'Chula Vista': 'CHULAVISTA',\n",
    "    'CONOCIDO': 'CONOCIDA',\n",
    "    'CONOSIDO': 'CONOCIDA',\n",
    "    'CONOSIDA': 'CONOCIDA',\n",
    "    'FRAC.NAKAYAMA': 'FRACC. NAKAYAMA',\n",
    "    'Frac.NAKAYAMA': 'FRACC. NAKAYAMA',\n",
    "    'fracc.nakayama': 'FRACC. NAKAYAMA',\n",
    "    'NAKAYAMA': 'FRACC. NAKAYAMA',\n",
    "    'fracc.zona': 'FRACC. ZONA DORADA',\n",
    "    'FRAC.': 'FRACC.',\n",
    "    'FRA': 'FRACC.',\n",
    "    'FRACC.-': 'FRACC.',\n",
    "    'EJ.': 'EJIDAL',\n",
    "    'E.': 'EJIDAL',\n",
    "    'CANACO': 'FRACC. CANACO',\n",
    "    'FRACC.CANACO': 'FRACC. CANACO',\n",
    "    'ESCOBEDO': 'COL. MARIANO ESCOBEDO',\n",
    "    'ESCOBESO': 'COL. MARIANO ESCOBEDO',\n",
    "    'FDEL GUTIERREZ': 'FIDEL GUTIERREZ',\n",
    "    'ZAPATA': 'EMILIANO ZAPATA',\n",
    "    'zapata': 'EMILIANO ZAPATA',\n",
    "    'GENARO': 'COL. GENARO ESTRADA',\n",
    "    'GUADALUPE': 'GUADALUPE VICTORIA',\n",
    "    'GPE.': 'GUADALUPE VICTORIA',\n",
    "    'INF.barranacos': 'INFONAVIT BARRANCOS',\n",
    "    'INF.Barrancos II': 'INFONAVIT BARRANCOS',\n",
    "    'BARRANCOS': 'INFONAVIT BARRANCOS',\n",
    "    'JUANDEDIOSBATIZ': 'JUAN DE DIOS BATIZ',\n",
    "    'rosorio isaraga': 'ROSARIO UZARRAGA',\n",
    "    'REPUBLICA': 'REPUBLICA MEXICANA',\n",
    "    'republica': 'REPUBLICA MEXICANA',\n",
    "    'Ni√±os Heroes': 'NINOS HEROES',\n",
    "    'Lomalinda': 'LOMA LINDA',\n",
    "    'LOMALINDA': 'LOMA LINDA',\n",
    "    'Loma Linda': 'LOMA LINDA',\n",
    "    'L√ÅZARO': 'LAZARO CARDENAS',\n",
    "    'Las Ma√±anitas': 'LAS MANANITAS',\n",
    "    'LAS MA√ëANITAS': 'LAS MANANITAS',\n",
    "    'LAS MAÑANITAS': 'LAS MANANITAS',\n",
    "    'LAS Mañanitas': 'LAS MANANITAS',\n",
    "    'PLUTARCO': 'PLUTARCO ELIAS CALLES',\n",
    "    'Plutarco Elis Calles': 'PLUTARCO ELIAS CALLES',\n",
    "    'Priv Lomas del Bosque': 'PRIV. LOMAS DEL BOSQUE'\n",
    "\n",
    "})\n",
    "\n",
    "#normalizar las colonias sin acentos con regex y sin simbolos\n",
    "mainData['colonia'] = mainData['colonia'].str.normalize('NFKD').str.encode('ascii', errors='ignore').str.decode('utf-8')\n",
    "#lo que hace es que si encuentra un caracter que no es ascii lo elimina\n",
    "mainData = mainData[~mainData['colonia'].isin(['fdgdfg', 'FDSFSSasd', 'INF.LAS','CAITIME'])]"
   ]
  },
  {
   "cell_type": "markdown",
   "metadata": {},
   "source": [
    "### Eliminamos las colonias que tienen tres o menos caracteres en el dataset"
   ]
  },
  {
   "cell_type": "code",
   "execution_count": 269,
   "metadata": {
    "execution": {
     "iopub.execute_input": "2024-11-29T21:35:16.637942Z",
     "iopub.status.busy": "2024-11-29T21:35:16.637527Z",
     "iopub.status.idle": "2024-11-29T21:35:16.666882Z",
     "shell.execute_reply": "2024-11-29T21:35:16.665815Z",
     "shell.execute_reply.started": "2024-11-29T21:35:16.637907Z"
    },
    "trusted": true
   },
   "outputs": [],
   "source": [
    "# Eliminar las colonias que tienes 3 o menos caracteres en el dataset\n",
    "filtro = mainData['colonia'].dropna().apply(len).between(1, 5)\n",
    "filtro = filtro.reindex(mainData.index, fill_value=False)\n",
    "mainData = mainData[~filtro]\n",
    "mainData.reset_index(drop=True, inplace=True)\n",
    "#correcta3\n",
    "# pasamos todas las colonias a mayusculas\n",
    "mainData['colonia'] = mainData['colonia'].str.upper()"
   ]
  },
  {
   "cell_type": "markdown",
   "metadata": {},
   "source": [
    "### Combinamos el excel de carreras con sus respectivos alumnos en mainData"
   ]
  },
  {
   "cell_type": "code",
   "execution_count": 270,
   "metadata": {},
   "outputs": [],
   "source": [
    "nuevo = pd.merge(mainData,carreras,how='inner',on='clave_carrera')\n",
    "#nuevo.to_csv('nuevo.csv', index=False)"
   ]
  },
  {
   "cell_type": "markdown",
   "metadata": {},
   "source": [
    "### Agregamos una nueva columna como caracteristica para ver el año que ingreso, y el periodo en el que lo hizo"
   ]
  },
  {
   "cell_type": "code",
   "execution_count": 271,
   "metadata": {},
   "outputs": [],
   "source": [
    "periodos = {1: \"ene-jun\", 2: \"verano\", 3: \"ago-dic\"}\n",
    "nuevo['ultimo_digito'] = nuevo['ingreso'] %10\n",
    "nuevo['periodo'] = nuevo['ultimo_digito'].map(periodos)\n",
    "\n",
    "nuevo['anio_ingreso'] = nuevo['ingreso'].astype(str).str[1:3]\n",
    "nuevo['anio_ingreso'] = '20' + nuevo['anio_ingreso']\n",
    "\n",
    "nuevo['anio_ingreso'] = nuevo['anio_ingreso'].astype(int)\n",
    "\n",
    "#nuevo.to_csv('nuevo.csv',index=False)"
   ]
  },
  {
   "cell_type": "markdown",
   "metadata": {},
   "source": [
    "## Preparar el dataset de calificaciones"
   ]
  },
  {
   "cell_type": "code",
   "execution_count": 272,
   "metadata": {},
   "outputs": [],
   "source": [
    "calificaciones\n",
    "periodos = {1: \"ene-jun\", 2: \"verano\", 3: \"ago-dic\"}\n",
    "calificaciones['ultimo_digito'] = calificaciones['periodo'] %10\n",
    "calificaciones['periodo_act'] = calificaciones['ultimo_digito'].map(periodos)\n",
    "\n",
    "calificaciones['anio_ingreso_periodo'] = calificaciones['periodo'].astype(str).str[1:3]\n",
    "calificaciones['anio_ingreso_periodo'] = '20' + calificaciones['anio_ingreso_periodo']\n",
    "\n",
    "calificaciones['anio_ingreso_periodo'] = calificaciones['anio_ingreso_periodo'].astype(int)"
   ]
  },
  {
   "cell_type": "markdown",
   "metadata": {},
   "source": [
    "### Calcular el promedio de cada estudiante por periodo"
   ]
  },
  {
   "cell_type": "code",
   "execution_count": 273,
   "metadata": {},
   "outputs": [],
   "source": [
    "\n",
    "promedio = calificaciones.groupby(['clave_alumno','periodo_act','anio_ingreso_periodo'])['calificacion'].mean().reset_index()\n",
    "promedio = promedio.rename(columns={'calificacion':'promedio'})\n",
    "\n",
    "dataperiodos = pd.merge(nuevo,promedio,how='inner',on=['clave_alumno'])\n",
    "#dataperiodos.to_csv('dataperiodos.csv',index=False)"
   ]
  },
  {
   "cell_type": "markdown",
   "metadata": {},
   "source": [
    "### En base al promedio por periodo de cada alumno sacar su promedio general #####################ESTE DEBE BORRAR? SUPONGO"
   ]
  },
  {
   "cell_type": "code",
   "execution_count": 274,
   "metadata": {},
   "outputs": [
    {
     "data": {
      "text/html": [
       "<div>\n",
       "<style scoped>\n",
       "    .dataframe tbody tr th:only-of-type {\n",
       "        vertical-align: middle;\n",
       "    }\n",
       "\n",
       "    .dataframe tbody tr th {\n",
       "        vertical-align: top;\n",
       "    }\n",
       "\n",
       "    .dataframe thead th {\n",
       "        text-align: right;\n",
       "    }\n",
       "</style>\n",
       "<table border=\"1\" class=\"dataframe\">\n",
       "  <thead>\n",
       "    <tr style=\"text-align: right;\">\n",
       "      <th></th>\n",
       "      <th>clave_alumno</th>\n",
       "      <th>clave_carrera</th>\n",
       "      <th>sexo</th>\n",
       "      <th>prepa</th>\n",
       "      <th>colonia</th>\n",
       "      <th>municipio</th>\n",
       "      <th>ciudad</th>\n",
       "      <th>ingreso</th>\n",
       "      <th>termino</th>\n",
       "      <th>causa_salida</th>\n",
       "      <th>nombre</th>\n",
       "      <th>corto</th>\n",
       "      <th>ultimo_digito</th>\n",
       "      <th>periodo</th>\n",
       "      <th>anio_ingreso</th>\n",
       "      <th>promedio_general</th>\n",
       "    </tr>\n",
       "  </thead>\n",
       "  <tbody>\n",
       "    <tr>\n",
       "      <th>0</th>\n",
       "      <td>3327</td>\n",
       "      <td>4</td>\n",
       "      <td>1</td>\n",
       "      <td>121</td>\n",
       "      <td>BUENOS AIRES</td>\n",
       "      <td>25006.0</td>\n",
       "      <td>Culiacan</td>\n",
       "      <td>2043.0</td>\n",
       "      <td>NaN</td>\n",
       "      <td>1</td>\n",
       "      <td>INGENIERIA ELECTRONICA</td>\n",
       "      <td>Electronica</td>\n",
       "      <td>3.0</td>\n",
       "      <td>ago-dic</td>\n",
       "      <td>2004</td>\n",
       "      <td>67.450000</td>\n",
       "    </tr>\n",
       "    <tr>\n",
       "      <th>1</th>\n",
       "      <td>4420</td>\n",
       "      <td>4</td>\n",
       "      <td>1</td>\n",
       "      <td>154</td>\n",
       "      <td>EL WALAMO</td>\n",
       "      <td>25011.0</td>\n",
       "      <td>Guasave</td>\n",
       "      <td>2053.0</td>\n",
       "      <td>NaN</td>\n",
       "      <td>1</td>\n",
       "      <td>INGENIERIA ELECTRONICA</td>\n",
       "      <td>Electronica</td>\n",
       "      <td>3.0</td>\n",
       "      <td>ago-dic</td>\n",
       "      <td>2005</td>\n",
       "      <td>66.660606</td>\n",
       "    </tr>\n",
       "    <tr>\n",
       "      <th>2</th>\n",
       "      <td>4434</td>\n",
       "      <td>4</td>\n",
       "      <td>1</td>\n",
       "      <td>127</td>\n",
       "      <td>ALCANFORES</td>\n",
       "      <td>25018.0</td>\n",
       "      <td>Navolato</td>\n",
       "      <td>2053.0</td>\n",
       "      <td>NaN</td>\n",
       "      <td>1</td>\n",
       "      <td>INGENIERIA ELECTRONICA</td>\n",
       "      <td>Electronica</td>\n",
       "      <td>3.0</td>\n",
       "      <td>ago-dic</td>\n",
       "      <td>2005</td>\n",
       "      <td>56.950649</td>\n",
       "    </tr>\n",
       "    <tr>\n",
       "      <th>3</th>\n",
       "      <td>4440</td>\n",
       "      <td>4</td>\n",
       "      <td>1</td>\n",
       "      <td>117</td>\n",
       "      <td>LOS ANGELES</td>\n",
       "      <td>25006.0</td>\n",
       "      <td>Culiacan</td>\n",
       "      <td>2053.0</td>\n",
       "      <td>NaN</td>\n",
       "      <td>1</td>\n",
       "      <td>INGENIERIA ELECTRONICA</td>\n",
       "      <td>Electronica</td>\n",
       "      <td>3.0</td>\n",
       "      <td>ago-dic</td>\n",
       "      <td>2005</td>\n",
       "      <td>60.455952</td>\n",
       "    </tr>\n",
       "    <tr>\n",
       "      <th>4</th>\n",
       "      <td>4443</td>\n",
       "      <td>4</td>\n",
       "      <td>1</td>\n",
       "      <td>142</td>\n",
       "      <td>NaN</td>\n",
       "      <td>25002.0</td>\n",
       "      <td>Angostura</td>\n",
       "      <td>2053.0</td>\n",
       "      <td>NaN</td>\n",
       "      <td>1</td>\n",
       "      <td>INGENIERIA ELECTRONICA</td>\n",
       "      <td>Electronica</td>\n",
       "      <td>3.0</td>\n",
       "      <td>ago-dic</td>\n",
       "      <td>2005</td>\n",
       "      <td>49.705556</td>\n",
       "    </tr>\n",
       "    <tr>\n",
       "      <th>...</th>\n",
       "      <td>...</td>\n",
       "      <td>...</td>\n",
       "      <td>...</td>\n",
       "      <td>...</td>\n",
       "      <td>...</td>\n",
       "      <td>...</td>\n",
       "      <td>...</td>\n",
       "      <td>...</td>\n",
       "      <td>...</td>\n",
       "      <td>...</td>\n",
       "      <td>...</td>\n",
       "      <td>...</td>\n",
       "      <td>...</td>\n",
       "      <td>...</td>\n",
       "      <td>...</td>\n",
       "      <td>...</td>\n",
       "    </tr>\n",
       "    <tr>\n",
       "      <th>2841</th>\n",
       "      <td>11737</td>\n",
       "      <td>8</td>\n",
       "      <td>1</td>\n",
       "      <td>153</td>\n",
       "      <td>SAN JOAQUIN</td>\n",
       "      <td>25006.0</td>\n",
       "      <td>Culiacan</td>\n",
       "      <td>2103.0</td>\n",
       "      <td>NaN</td>\n",
       "      <td>1</td>\n",
       "      <td>INGENIERIA EN TECNOLOGIAS DE LA INFORMACION Y ...</td>\n",
       "      <td>TIC</td>\n",
       "      <td>3.0</td>\n",
       "      <td>ago-dic</td>\n",
       "      <td>2010</td>\n",
       "      <td>85.000000</td>\n",
       "    </tr>\n",
       "    <tr>\n",
       "      <th>2842</th>\n",
       "      <td>11738</td>\n",
       "      <td>8</td>\n",
       "      <td>2</td>\n",
       "      <td>98</td>\n",
       "      <td>FOVISSSTE PLAYA AZUL</td>\n",
       "      <td>25006.0</td>\n",
       "      <td>Culiacan</td>\n",
       "      <td>2103.0</td>\n",
       "      <td>NaN</td>\n",
       "      <td>1</td>\n",
       "      <td>INGENIERIA EN TECNOLOGIAS DE LA INFORMACION Y ...</td>\n",
       "      <td>TIC</td>\n",
       "      <td>3.0</td>\n",
       "      <td>ago-dic</td>\n",
       "      <td>2010</td>\n",
       "      <td>55.333333</td>\n",
       "    </tr>\n",
       "    <tr>\n",
       "      <th>2843</th>\n",
       "      <td>11740</td>\n",
       "      <td>8</td>\n",
       "      <td>1</td>\n",
       "      <td>71</td>\n",
       "      <td>BALCONES DE NUEVO CULIACAN</td>\n",
       "      <td>25006.0</td>\n",
       "      <td>Culiacan</td>\n",
       "      <td>2103.0</td>\n",
       "      <td>NaN</td>\n",
       "      <td>1</td>\n",
       "      <td>INGENIERIA EN TECNOLOGIAS DE LA INFORMACION Y ...</td>\n",
       "      <td>TIC</td>\n",
       "      <td>3.0</td>\n",
       "      <td>ago-dic</td>\n",
       "      <td>2010</td>\n",
       "      <td>54.600000</td>\n",
       "    </tr>\n",
       "    <tr>\n",
       "      <th>2844</th>\n",
       "      <td>11825</td>\n",
       "      <td>8</td>\n",
       "      <td>1</td>\n",
       "      <td>26</td>\n",
       "      <td>SAN MIGUEL</td>\n",
       "      <td>25006.0</td>\n",
       "      <td>Culiacan</td>\n",
       "      <td>2103.0</td>\n",
       "      <td>NaN</td>\n",
       "      <td>1</td>\n",
       "      <td>INGENIERIA EN TECNOLOGIAS DE LA INFORMACION Y ...</td>\n",
       "      <td>TIC</td>\n",
       "      <td>3.0</td>\n",
       "      <td>ago-dic</td>\n",
       "      <td>2010</td>\n",
       "      <td>48.000000</td>\n",
       "    </tr>\n",
       "    <tr>\n",
       "      <th>2845</th>\n",
       "      <td>11831</td>\n",
       "      <td>8</td>\n",
       "      <td>1</td>\n",
       "      <td>70</td>\n",
       "      <td>ADOLFO LOPEZ MATEOS</td>\n",
       "      <td>25006.0</td>\n",
       "      <td>Culiacan</td>\n",
       "      <td>2103.0</td>\n",
       "      <td>NaN</td>\n",
       "      <td>1</td>\n",
       "      <td>INGENIERIA EN TECNOLOGIAS DE LA INFORMACION Y ...</td>\n",
       "      <td>TIC</td>\n",
       "      <td>3.0</td>\n",
       "      <td>ago-dic</td>\n",
       "      <td>2010</td>\n",
       "      <td>57.500000</td>\n",
       "    </tr>\n",
       "  </tbody>\n",
       "</table>\n",
       "<p>2846 rows × 16 columns</p>\n",
       "</div>"
      ],
      "text/plain": [
       "      clave_alumno  clave_carrera  sexo  prepa                     colonia  \\\n",
       "0             3327              4     1    121                BUENOS AIRES   \n",
       "1             4420              4     1    154                   EL WALAMO   \n",
       "2             4434              4     1    127                  ALCANFORES   \n",
       "3             4440              4     1    117                 LOS ANGELES   \n",
       "4             4443              4     1    142                         NaN   \n",
       "...            ...            ...   ...    ...                         ...   \n",
       "2841         11737              8     1    153                 SAN JOAQUIN   \n",
       "2842         11738              8     2     98        FOVISSSTE PLAYA AZUL   \n",
       "2843         11740              8     1     71  BALCONES DE NUEVO CULIACAN   \n",
       "2844         11825              8     1     26                  SAN MIGUEL   \n",
       "2845         11831              8     1     70         ADOLFO LOPEZ MATEOS   \n",
       "\n",
       "      municipio     ciudad  ingreso  termino  causa_salida  \\\n",
       "0       25006.0   Culiacan   2043.0      NaN             1   \n",
       "1       25011.0    Guasave   2053.0      NaN             1   \n",
       "2       25018.0   Navolato   2053.0      NaN             1   \n",
       "3       25006.0   Culiacan   2053.0      NaN             1   \n",
       "4       25002.0  Angostura   2053.0      NaN             1   \n",
       "...         ...        ...      ...      ...           ...   \n",
       "2841    25006.0   Culiacan   2103.0      NaN             1   \n",
       "2842    25006.0   Culiacan   2103.0      NaN             1   \n",
       "2843    25006.0   Culiacan   2103.0      NaN             1   \n",
       "2844    25006.0   Culiacan   2103.0      NaN             1   \n",
       "2845    25006.0   Culiacan   2103.0      NaN             1   \n",
       "\n",
       "                                                 nombre        corto  \\\n",
       "0                                INGENIERIA ELECTRONICA  Electronica   \n",
       "1                                INGENIERIA ELECTRONICA  Electronica   \n",
       "2                                INGENIERIA ELECTRONICA  Electronica   \n",
       "3                                INGENIERIA ELECTRONICA  Electronica   \n",
       "4                                INGENIERIA ELECTRONICA  Electronica   \n",
       "...                                                 ...          ...   \n",
       "2841  INGENIERIA EN TECNOLOGIAS DE LA INFORMACION Y ...          TIC   \n",
       "2842  INGENIERIA EN TECNOLOGIAS DE LA INFORMACION Y ...          TIC   \n",
       "2843  INGENIERIA EN TECNOLOGIAS DE LA INFORMACION Y ...          TIC   \n",
       "2844  INGENIERIA EN TECNOLOGIAS DE LA INFORMACION Y ...          TIC   \n",
       "2845  INGENIERIA EN TECNOLOGIAS DE LA INFORMACION Y ...          TIC   \n",
       "\n",
       "      ultimo_digito  periodo  anio_ingreso  promedio_general  \n",
       "0               3.0  ago-dic          2004         67.450000  \n",
       "1               3.0  ago-dic          2005         66.660606  \n",
       "2               3.0  ago-dic          2005         56.950649  \n",
       "3               3.0  ago-dic          2005         60.455952  \n",
       "4               3.0  ago-dic          2005         49.705556  \n",
       "...             ...      ...           ...               ...  \n",
       "2841            3.0  ago-dic          2010         85.000000  \n",
       "2842            3.0  ago-dic          2010         55.333333  \n",
       "2843            3.0  ago-dic          2010         54.600000  \n",
       "2844            3.0  ago-dic          2010         48.000000  \n",
       "2845            3.0  ago-dic          2010         57.500000  \n",
       "\n",
       "[2846 rows x 16 columns]"
      ]
     },
     "execution_count": 274,
     "metadata": {},
     "output_type": "execute_result"
    }
   ],
   "source": [
    "\n",
    "promedio_general = promedio.groupby('clave_alumno')['promedio'].mean().reset_index()\n",
    "promedio_general = promedio_general.rename(columns={'promedio':'promedio_general'})\n",
    "promedio_general\n",
    "\n",
    "## a cada estudiante se le asigna su promedio general\n",
    "nuevo = pd.merge(nuevo,promedio_general,how='inner',on='clave_alumno')\n",
    "nuevo"
   ]
  },
  {
   "cell_type": "markdown",
   "metadata": {},
   "source": [
    "### Creamos el modelo de machine learning usando un modelo de RandomForestRegressor para datos continuos"
   ]
  },
  {
   "cell_type": "code",
   "execution_count": 275,
   "metadata": {},
   "outputs": [
    {
     "name": "stdout",
     "output_type": "stream",
     "text": [
      "11.160334853262928\n"
     ]
    }
   ],
   "source": [
    "from sklearn.ensemble import RandomForestRegressor\n",
    "from sklearn.model_selection import train_test_split\n",
    "from sklearn.metrics import mean_absolute_error\n",
    "\n",
    "#Caracteristicas\n",
    "caracteristicas_nuevo = ['sexo','prepa','colonia','municipio','ciudad','nombre','periodo_act']\n",
    "X = dataperiodos[caracteristicas_nuevo]\n",
    "#Variable objetivo\n",
    "y = dataperiodos['promedio']\n",
    "\n",
    "#Codificar las variables categoricas\n",
    "X_encoded = pd.get_dummies(X, columns=['sexo','prepa','colonia','municipio','ciudad','nombre','periodo_act'])\n",
    "\n",
    "#Dvidir los datos en entrenamiento y prueba\n",
    "X_train, X_test, y_train, y_test = train_test_split(X_encoded, y, test_size=0.2, random_state=42)\n",
    "\n",
    "#Entrenamiento del modelo\n",
    "model = RandomForestRegressor(n_estimators=50, random_state=42)\n",
    "model.fit(X_train, y_train)\n",
    "\n",
    "#Prediccion\n",
    "y_pred = model.predict(X_test)\n",
    "print(mean_absolute_error(y_test, y_pred))\n"
   ]
  },
  {
   "cell_type": "markdown",
   "metadata": {},
   "source": [
    "### Implementar el modelo a los datos"
   ]
  },
  {
   "cell_type": "code",
   "execution_count": 276,
   "metadata": {},
   "outputs": [
    {
     "name": "stdout",
     "output_type": "stream",
     "text": [
      "0    64.816452\n",
      "1    64.816452\n",
      "2    64.816452\n",
      "3    64.816452\n",
      "4    64.816452\n",
      "Name: promedioxperiodo, dtype: float64\n"
     ]
    }
   ],
   "source": [
    "dataperiodos['promedioxperiodo'] = model.predict(X_encoded)\n",
    "\n",
    "print(dataperiodos['promedioxperiodo'].head())\n",
    "\n",
    "#dataperiodos.to_csv('dataperiodosnuevo.csv',index=False)"
   ]
  },
  {
   "cell_type": "markdown",
   "metadata": {},
   "source": [
    "### ver el calculo para un estudiante"
   ]
  },
  {
   "cell_type": "code",
   "execution_count": 277,
   "metadata": {},
   "outputs": [
    {
     "name": "stdout",
     "output_type": "stream",
     "text": [
      "   periodo_act   promedio  promedioxperiodo\n",
      "0      ago-dic  68.166667         64.816452\n",
      "1      ago-dic  31.666667         64.816452\n",
      "2      ago-dic  62.000000         64.816452\n",
      "3      ago-dic  80.000000         64.816452\n",
      "4      ago-dic  74.166667         64.816452\n",
      "5      ago-dic  76.500000         64.816452\n",
      "6      ene-jun  43.750000         50.500974\n",
      "7      ene-jun  77.000000         50.500974\n",
      "8      ene-jun  84.400000         50.500974\n",
      "9      ene-jun  29.200000         50.500974\n",
      "10      verano  80.000000         82.582857\n",
      "11      verano  80.000000         82.582857\n",
      "12      verano  90.000000         82.582857\n"
     ]
    }
   ],
   "source": [
    "import matplotlib.pyplot as plt\n",
    "\n",
    "clave_alumno_ejemplo = 3327\n",
    "estudiante = dataperiodos[dataperiodos['clave_alumno'] == clave_alumno_ejemplo]\n",
    "print(estudiante[['periodo_act', 'promedio', 'promedioxperiodo']])"
   ]
  },
  {
   "cell_type": "markdown",
   "metadata": {},
   "source": [
    "### Validamos el desempeño del modelo de aprendizaje"
   ]
  },
  {
   "cell_type": "code",
   "execution_count": 278,
   "metadata": {},
   "outputs": [
    {
     "name": "stdout",
     "output_type": "stream",
     "text": [
      "MAE: 8.089187066030894\n"
     ]
    }
   ],
   "source": [
    "from sklearn.metrics import mean_absolute_error, mean_squared_error\n",
    "# Evaluación del modelo\n",
    "mae = mean_absolute_error(dataperiodos['promedio'],dataperiodos['promedioxperiodo'])\n",
    "#mse = mean_squared_error(dataperiodos['promedio'],dataperiodos['promedioxperiodo'])\n",
    "print(f\"MAE: {mae}\")"
   ]
  },
  {
   "cell_type": "markdown",
   "metadata": {},
   "source": [
    "### Hacemos una comparacion para ver si el promedio del sig periodo es similar a los periodos del alumno"
   ]
  },
  {
   "cell_type": "code",
   "execution_count": 279,
   "metadata": {},
   "outputs": [
    {
     "data": {
      "image/png": "[encoded data removed]",
      "text/plain": [
       "<Figure size 640x480 with 1 Axes>"
      ]
     },
     "metadata": {},
     "output_type": "display_data"
    }
   ],
   "source": [
    "# Comparar distribución entre predicciones y valores reales\n",
    "import seaborn as sns\n",
    "\n",
    "sns.histplot(dataperiodos['promedioxperiodo'], label='Real', color='blue', kde=True)\n",
    "sns.histplot(dataperiodos['promedio'], label='Predicho', color='orange', kde=True)\n",
    "plt.legend()\n",
    "plt.title('Distribución de Promedios: Real vs Predicho')\n",
    "plt.show()\n",
    "\n",
    "from sklearn.model_selection import cross_val_score\n",
    "from sklearn.metrics import mean_absolute_error\n",
    "\n"
   ]
  },
  {
   "cell_type": "markdown",
   "metadata": {},
   "source": [
    "### Presentamos los datos, eliminando filas y columnas que no sirvan"
   ]
  },
  {
   "cell_type": "code",
   "execution_count": 280,
   "metadata": {},
   "outputs": [],
   "source": [
    "dataperiodos.drop('ingreso', axis=1, inplace=True)\n",
    "dataperiodos.drop('termino', axis=1, inplace=True)\n",
    "dataperiodos.drop('ultimo_digito', axis=1, inplace=True)\n",
    "dataperiodos.drop('anio_ingreso', axis=1, inplace=True)\n",
    "dataperiodos.drop('periodo', axis=1, inplace=True)"
   ]
  },
  {
   "cell_type": "markdown",
   "metadata": {},
   "source": [
    "### Agregamos una nueva columna para identificar alos alumnos que estan en riesgo de tener bajo rendimiento academico en cierto periodo"
   ]
  },
  {
   "cell_type": "code",
   "execution_count": 281,
   "metadata": {},
   "outputs": [],
   "source": [
    "dataperiodos\n",
    "umbral = 70\n",
    "dataperiodos['alumnoEnRiesgoBajoRendimiento'] = dataperiodos['promedioxperiodo'].apply(lambda x: \"En riesgo\" if x < umbral else \"Sin riesgo\")\n",
    "dataperiodos.to_csv('dataperiodosnuevo.csv',index=False)"
   ]
  }
 ],
 "metadata": {
  "kaggle": {
   "accelerator": "none",
   "dataSources": [
    {
     "datasetId": 6070837,
     "sourceId": 9885954,
     "sourceType": "datasetVersion"
    },
    {
     "datasetId": 6070967,
     "sourceId": 9886110,
     "sourceType": "datasetVersion"
    },
    {
     "datasetId": 6139310,
     "sourceId": 9977783,
     "sourceType": "datasetVersion"
    }
   ],
   "dockerImageVersionId": 30786,
   "isGpuEnabled": false,
   "isInternetEnabled": false,
   "language": "python",
   "sourceType": "notebook"
  },
  "kernelspec": {
   "display_name": "Python 3",
   "language": "python",
   "name": "python3"
  },
  "language_info": {
   "codemirror_mode": {
    "name": "ipython",
    "version": 3
   },
   "file_extension": ".py",
   "mimetype": "text/x-python",
   "name": "python",
   "nbconvert_exporter": "python",
   "pygments_lexer": "ipython3",
   "version": "3.12.5"
  }
 },
 "nbformat": 4,
 "nbformat_minor": 4
}
