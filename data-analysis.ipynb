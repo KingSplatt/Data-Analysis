{
 "cells": [
  {
   "cell_type": "code",
   "execution_count": 26,
   "metadata": {
    "_cell_guid": "b1076dfc-b9ad-4769-8c92-a6c4dae69d19",
    "_uuid": "8f2839f25d086af736a60e9eeb907d3b93b6e0e5",
    "execution": {
     "iopub.execute_input": "2024-11-29T21:20:38.684428Z",
     "iopub.status.busy": "2024-11-29T21:20:38.684049Z",
     "iopub.status.idle": "2024-11-29T21:20:39.901184Z",
     "shell.execute_reply": "2024-11-29T21:20:39.900100Z",
     "shell.execute_reply.started": "2024-11-29T21:20:38.684379Z"
    },
    "trusted": true
   },
   "outputs": [],
   "source": [
    "# This Python 3 environment comes with many helpful analytics libraries installed\n",
    "# It is defined by the kaggle/python Docker image: https://github.com/kaggle/docker-python\n",
    "# For example, here's several helpful packages to load\n",
    "\n",
    "import numpy as np # linear algebra\n",
    "import pandas as pd # data processing, CSV file I/O (e.g. pd.read_csv)\n",
    "\n",
    "# Input data files are available in the read-only \"../input/\" directory\n",
    "# For example, running this (by clicking run or pressing Shift+Enter) will list all files under the input directory\n",
    "\n",
    "import os\n",
    "for dirname, _, filenames in os.walk('/kaggle/input'):\n",
    "    for filename in filenames:\n",
    "        print(os.path.join(dirname, filename))\n",
    "\n",
    "# You can write up to 20GB to the current directory (/kaggle/working/) that gets preserved as output when you create a version using \"Save & Run All\" \n",
    "# You can also write temporary files to /kaggle/temp/, but they won't be saved outside of the current session"
   ]
  },
  {
   "cell_type": "markdown",
   "metadata": {},
   "source": [
    "## Limpieza de los datos\n",
    "\n",
    "\n",
    "\n",
    "1. Cargar los datos"
   ]
  },
  {
   "cell_type": "code",
   "execution_count": 27,
   "metadata": {
    "execution": {
     "iopub.execute_input": "2024-11-29T21:20:44.717615Z",
     "iopub.status.busy": "2024-11-29T21:20:44.717098Z",
     "iopub.status.idle": "2024-11-29T21:20:45.032127Z",
     "shell.execute_reply": "2024-11-29T21:20:45.030858Z",
     "shell.execute_reply.started": "2024-11-29T21:20:44.717581Z"
    },
    "trusted": true
   },
   "outputs": [],
   "source": [
    "calificaciones = pd.read_csv(\"./Datos/calificaciones.csv\")\n",
    "estudiantes = pd.read_csv(\"./Datos/estudiantes.csv\")\n",
    "carreras = pd.read_csv(\"./Datos/carrera.csv\")\n",
    "escuelas = pd.read_csv(\"./Datos/escuelas.csv\")"
   ]
  },
  {
   "cell_type": "markdown",
   "metadata": {},
   "source": [
    "### Primero eliminamos a aquellos estudiantes que su \"prepa\" no esta registrada como escuela\n",
    "\n",
    "con esto se quitaron aprox. 2000-3000 filas"
   ]
  },
  {
   "cell_type": "code",
   "execution_count": 28,
   "metadata": {
    "execution": {
     "iopub.execute_input": "2024-11-29T21:19:39.283786Z",
     "iopub.status.busy": "2024-11-29T21:19:39.283359Z",
     "iopub.status.idle": "2024-11-29T21:19:39.295720Z",
     "shell.execute_reply": "2024-11-29T21:19:39.294673Z",
     "shell.execute_reply.started": "2024-11-29T21:19:39.283748Z"
    },
    "trusted": true
   },
   "outputs": [],
   "source": [
    "ciud = pd.DataFrame(estudiantes[\"ciudad\"].unique(), columns=[\"ciudad\"])\n",
    "#ciud"
   ]
  },
  {
   "cell_type": "code",
   "execution_count": 29,
   "metadata": {
    "execution": {
     "iopub.execute_input": "2024-11-29T21:20:53.636303Z",
     "iopub.status.busy": "2024-11-29T21:20:53.635884Z",
     "iopub.status.idle": "2024-11-29T21:20:53.692844Z",
     "shell.execute_reply": "2024-11-29T21:20:53.691507Z",
     "shell.execute_reply.started": "2024-11-29T21:20:53.636267Z"
    },
    "trusted": true
   },
   "outputs": [],
   "source": [
    "#colonias = pd.DataFrame(estudiantes[\"municipio\"].unique(), columns=[\"municipio\"])\n",
    "#colonias\n",
    "\n",
    "#municipio_ciudad = estudiantes.groupby('municipio')['ciudad'].unique().reset_index()\n",
    "#municipio_ciudad.columns = ['municipio', 'ciudades']\n",
    "#municipio_ciudad\n",
    "\n",
    "#if estudiantes[\"municipio\"] > 25000 && estudiantes[\"municipio\"] < 25019:\n",
    "#    estudiantes[\"ciudad\"]\n",
    "\n",
    "\n",
    "correcta = pd.merge(estudiantes, escuelas[['clave']], left_on='prepa', right_on='clave', how='inner')\n",
    "#correcta.sort_values('clave_alumno')\n",
    "\n"
   ]
  },
  {
   "cell_type": "markdown",
   "metadata": {},
   "source": [
    "### Ahora se filtran todas las calificaciones de alumnos, si la clave del alumno no esta registrada en alumnos se descartan."
   ]
  },
  {
   "cell_type": "code",
   "execution_count": 30,
   "metadata": {
    "execution": {
     "iopub.execute_input": "2024-11-29T21:21:37.188641Z",
     "iopub.status.busy": "2024-11-29T21:21:37.188235Z",
     "iopub.status.idle": "2024-11-29T21:21:37.273329Z",
     "shell.execute_reply": "2024-11-29T21:21:37.271952Z",
     "shell.execute_reply.started": "2024-11-29T21:21:37.188605Z"
    },
    "trusted": true
   },
   "outputs": [],
   "source": [
    "correcta2 = pd.merge(calificaciones, estudiantes[['clave_alumno']], left_on='clave_alumno', right_on='clave_alumno', how='inner')\n",
    "#correcta2.sort_values('clave_alumno')"
   ]
  },
  {
   "cell_type": "markdown",
   "metadata": {},
   "source": [
    "### aqui filtro a aquellos estudiantes que necesitamos solamente, aquellos que siguen vigentes y que no han terminado sus estudios"
   ]
  },
  {
   "cell_type": "code",
   "execution_count": 31,
   "metadata": {
    "execution": {
     "iopub.execute_input": "2024-11-29T21:21:46.786729Z",
     "iopub.status.busy": "2024-11-29T21:21:46.786308Z",
     "iopub.status.idle": "2024-11-29T21:21:46.808244Z",
     "shell.execute_reply": "2024-11-29T21:21:46.806971Z",
     "shell.execute_reply.started": "2024-11-29T21:21:46.786693Z"
    },
    "trusted": true
   },
   "outputs": [],
   "source": [
    "correcta3 = estudiantes[(estudiantes['termino'].isnull()) & (estudiantes['causa_salida']==1)]\n",
    "#correcta3.sort_values('clave_alumno')"
   ]
  },
  {
   "cell_type": "code",
   "execution_count": 32,
   "metadata": {
    "execution": {
     "iopub.execute_input": "2024-11-22T06:06:05.468010Z",
     "iopub.status.busy": "2024-11-22T06:06:05.467134Z",
     "iopub.status.idle": "2024-11-22T06:06:05.483840Z",
     "shell.execute_reply": "2024-11-22T06:06:05.482701Z",
     "shell.execute_reply.started": "2024-11-22T06:06:05.467964Z"
    },
    "trusted": true
   },
   "outputs": [],
   "source": [
    "nombres_unicos = pd.DataFrame(estudiantes.groupby(\"municipio\")[\"ciudad\"].apply(lambda x: x.unique()))\n",
    "#nombres_unicos\n",
    "#nombres_unicos.to_csv('nombres.csv', index=True)\n"
   ]
  },
  {
   "cell_type": "markdown",
   "metadata": {},
   "source": [
    "### Aqui ponemos la clave de los municipios correctos, si encuentra otra clave pone por default la de culiacan"
   ]
  },
  {
   "cell_type": "code",
   "execution_count": 33,
   "metadata": {},
   "outputs": [
    {
     "name": "stderr",
     "output_type": "stream",
     "text": [
      "C:\\Users\\mari_\\AppData\\Local\\Temp\\ipykernel_6256\\4072386065.py:2: SettingWithCopyWarning: \n",
      "A value is trying to be set on a copy of a slice from a DataFrame.\n",
      "Try using .loc[row_indexer,col_indexer] = value instead\n",
      "\n",
      "See the caveats in the documentation: https://pandas.pydata.org/pandas-docs/stable/user_guide/indexing.html#returning-a-view-versus-a-copy\n",
      "  correcta3['ciudad'] = correcta3['municipio'].apply(lambda x: 'Los Mochis' if x == 25001 else 'Angostura' if x == 25002 else 'Badiraguato' if x == 25003 else 'Concordia' if x == 25004 else 'Cosala' if x == 25005 else 'Culiacan' if x == 25006 else 'Choix' if x == 25007 else 'La Cruz' if x == 25008 else 'Escuinapa' if x == 25009 else 'El Fuerte' if x == 25010 else 'Guasave' if x == 25011 else 'Mazatlan' if x == 25012 else 'Mocorito' if x == 25013 else 'Rosario' if x == 25014 else 'Guamuchil' if x == 25015 else 'San Ignacio' if x == 25016 else 'Sinaloa de Leyva' if x == 25017 else 'Navolato' if x == 25018 else 'ElDorado' if x == 25019 else 'Juan Jose Rios' if x == 25020 else 'No encontrado')\n",
      "C:\\Users\\mari_\\AppData\\Local\\Temp\\ipykernel_6256\\4072386065.py:9: SettingWithCopyWarning: \n",
      "A value is trying to be set on a copy of a slice from a DataFrame.\n",
      "Try using .loc[row_indexer,col_indexer] = value instead\n",
      "\n",
      "See the caveats in the documentation: https://pandas.pydata.org/pandas-docs/stable/user_guide/indexing.html#returning-a-view-versus-a-copy\n",
      "  correcta3['municipio'] = correcta3['municipio'].apply(lambda x: clave_cul if x not in clave_municipios else x)\n"
     ]
    }
   ],
   "source": [
    "#los municipios con clave le asignamos su ciudad correspondiente\n",
    "correcta3['ciudad'] = correcta3['municipio'].apply(lambda x: 'Los Mochis' if x == 25001 else 'Angostura' if x == 25002 else 'Badiraguato' if x == 25003 else 'Concordia' if x == 25004 else 'Cosala' if x == 25005 else 'Culiacan' if x == 25006 else 'Choix' if x == 25007 else 'La Cruz' if x == 25008 else 'Escuinapa' if x == 25009 else 'El Fuerte' if x == 25010 else 'Guasave' if x == 25011 else 'Mazatlan' if x == 25012 else 'Mocorito' if x == 25013 else 'Rosario' if x == 25014 else 'Guamuchil' if x == 25015 else 'San Ignacio' if x == 25016 else 'Sinaloa de Leyva' if x == 25017 else 'Navolato' if x == 25018 else 'ElDorado' if x == 25019 else 'Juan Jose Rios' if x == 25020 else 'No encontrado')\n",
    "#para los municipios que no tienen bien su clave se le asignan por default a culiacan\n",
    "clave_municipios = [25001, 25002, 25003, 25004, 25005, 25006, 25007, 25008, 25009, 25010, 25011, 25012, 25013, 25014, 25015, 25016, 25017, 25018, 25019, 25020]\n",
    "clave_cul = 25006\n",
    "#si no esta en la lista de claves de municipios se le asigna a culiacan\n",
    "correcta3.loc[~correcta3['municipio'].isin(clave_municipios), 'ciudad'] = 'Culiacan'\n",
    "#ahora cambiamos los municipios que estan mal a la clave de culiacan\n",
    "correcta3['municipio'] = correcta3['municipio'].apply(lambda x: clave_cul if x not in clave_municipios else x)"
   ]
  },
  {
   "cell_type": "markdown",
   "metadata": {},
   "source": [
    "### Para limpiar los textos que tengan mal el nombre de municipio"
   ]
  },
  {
   "cell_type": "code",
   "execution_count": 34,
   "metadata": {
    "execution": {
     "iopub.execute_input": "2024-11-29T21:21:51.482889Z",
     "iopub.status.busy": "2024-11-29T21:21:51.482480Z",
     "iopub.status.idle": "2024-11-29T21:21:51.650860Z",
     "shell.execute_reply": "2024-11-29T21:21:51.649241Z",
     "shell.execute_reply.started": "2024-11-29T21:21:51.482856Z"
    },
    "trusted": true
   },
   "outputs": [],
   "source": [
    "from fuzzywuzzy import fuzz\n",
    "\n",
    "# Función que compara una cadena con \"culiacan\"\n",
    "def buscar_culiacan_fuzzy(texto):\n",
    "    # Asegúrate de que el texto no sea NaN ni nulo antes de aplicar fuzzy matching\n",
    "    if isinstance(texto, str) and len(texto) > 0:\n",
    "        if fuzz.ratio(texto.lower(), \"culiacan\") > 40:  # Umbral de coincidencia\n",
    "            return 'culiacan'\n",
    "        elif fuzz.ratio(texto.lower(), \"aguaruto\") > 40:  # Umbral de coincidencia\n",
    "            return 'aguaruto'\n",
    "        elif fuzz.ratio(texto.lower(), \"angostura\") > 40:  # Umbral de coincidencia\n",
    "            return 'angostura'\n",
    "        elif fuzz.ratio(texto.lower(), \"bachimeto\") > 40:  # Umbral de coincidencia\n",
    "            return 'bachimeto'\n",
    "        elif fuzz.ratio(texto.lower(), \"concordia\") > 40:  # Umbral de coincidencia\n",
    "            return 'concordia'\n",
    "        elif fuzz.ratio(texto.lower(), \"dorado\") > 40:  # Umbral de coincidencia\n",
    "            return 'el dorado'\n",
    "        elif fuzz.ratio(texto.lower(), \"guamuchil\") > 40:  # Umbral de coincidencia\n",
    "            return 'guamuchil'\n",
    "        elif fuzz.ratio(texto.lower(), \"guasave\") > 40:  # Umbral de coincidencia\n",
    "            return 'guasave'\n",
    "        elif fuzz.ratio(texto.lower(), \"villa juarez\") > 40:  # Umbral de coincidencia\n",
    "            return 'villa juarez'\n",
    "        elif fuzz.ratio(texto.lower(), \"pericos\") > 40:  # Umbral de coincidencia\n",
    "            return 'pericos'\n",
    "        elif fuzz.ratio(texto.lower(), \"salvador alvarado\") > 40:  # Umbral de coincidencia\n",
    "            return 'salvador alvarado'\n",
    "        elif fuzz.ratio(texto.lower(), \"mazatlan\") > 40:  # Umbral de coincidencia\n",
    "            return 'mazatlan'\n",
    "                   \n",
    "    return texto\n",
    "\n",
    "# Aplicar la función a la columna 'ciudad'\n",
    "df = correcta3\n",
    "df.loc[:, 'ciudad'] = correcta3['ciudad'].apply(buscar_culiacan_fuzzy)\n",
    "\n",
    "# Ver el resultado\n",
    "#correcta3\n",
    "\n"
   ]
  },
  {
   "cell_type": "markdown",
   "metadata": {},
   "source": [
    "### Aqui limpiamos algunas colonias que tienen problemas con el nombre"
   ]
  },
  {
   "cell_type": "code",
   "execution_count": 35,
   "metadata": {
    "execution": {
     "iopub.execute_input": "2024-11-29T21:21:57.889785Z",
     "iopub.status.busy": "2024-11-29T21:21:57.888758Z",
     "iopub.status.idle": "2024-11-29T21:21:57.913981Z",
     "shell.execute_reply": "2024-11-29T21:21:57.912404Z",
     "shell.execute_reply.started": "2024-11-29T21:21:57.889728Z"
    },
    "trusted": true
   },
   "outputs": [
    {
     "name": "stderr",
     "output_type": "stream",
     "text": [
      "C:\\Users\\mari_\\AppData\\Local\\Temp\\ipykernel_6256\\4193294602.py:1: SettingWithCopyWarning: \n",
      "A value is trying to be set on a copy of a slice from a DataFrame.\n",
      "Try using .loc[row_indexer,col_indexer] = value instead\n",
      "\n",
      "See the caveats in the documentation: https://pandas.pydata.org/pandas-docs/stable/user_guide/indexing.html#returning-a-view-versus-a-copy\n",
      "  correcta3['colonia'] = correcta3['colonia'].replace({\n"
     ]
    }
   ],
   "source": [
    "correcta3['colonia'] = correcta3['colonia'].replace({\n",
    "    '21': '21 DE MARZO', \n",
    "    '21DE': '21 DE MARZO',\n",
    "    'ADF': 'ADOLFO LOPEZ MATEOS',\n",
    "    'ADOLFO': 'ADOLFO LOPEZ MATEOS',\n",
    "    'AF': 'ADOLFO LOPEZ MATEOS',\n",
    "    'AGRI.': 'COLONIA AGRICOLA MÉXICO',\n",
    "    'AGRICOLA': 'COLONIA AGRICOLA MÉXICO',\n",
    "    'COL.AGRICOLA': 'COLONIA AGRICOLA MÉXICO',\n",
    "    'AGUA': 'AGUACALIENTE',\n",
    "    'AGUA CALIENTE': 'AGUACALIENTE',\n",
    "    'ALFONSO': 'ALFONSO G. CALDERON',\n",
    "    'AMP.TOLEDO': 'AMP. TOLEDO',\n",
    "    'ALTURAS': 'ALTURAS DEL SUR',\n",
    "    'AMADO': 'AMADO NERVO',\n",
    "    'AQUILES': 'AQUILES SERDAN',\n",
    "    'BALCONES': 'BALCONES DE NUEVO CULIACAN',\n",
    "    'BUENOS': 'BUENOS AIRES',\n",
    "    'BUENA': 'BUENA VISTA',\n",
    "    'CNOP': 'AMP. CNOP',\n",
    "    'AMPL.CNOP': 'AMP. CNOP',\n",
    "    'CU': 'CD. UNIVERSITARIA',\n",
    "    'C.U': 'CD. UNIVERSITARIA',\n",
    "    'CIUDADES': 'CIUDADES HERMANAS',\n",
    "    'CD.': 'CIUDADES HERMANAS',\n",
    "    'CD. HERMANAS': 'CIUDADES HERMANAS',\n",
    "    'CHULA': 'CHULAVISTA',\n",
    "    'CHULA VISTA': 'CHULAVISTA',\n",
    "    'CONOCIDO': 'CONOCIDA',\n",
    "    'CONOSIDO': 'CONOCIDA',\n",
    "    'CONOSIDA': 'CONOCIDA',\n",
    "    'FRAC.NAKAYAMA': 'FRACC. NAKAYAMA',\n",
    "    'FRAC.': 'FRACC.',\n",
    "    'FRA': 'FRACC.',\n",
    "    'FRACC.-': 'FRACC.',\n",
    "    'EJ.': 'EJIDAL',\n",
    "    'E.': 'EJIDAL',\n",
    "    'CANACO': 'FRACC. CANACO',\n",
    "    'FRACC.CANACO': 'FRACC. CANACO',\n",
    "    'ESCOBEDO': 'COL. MARIANO ESCOBEDO',\n",
    "    'ESCOBESO': 'COL. MARIANO ESCOBEDO',\n",
    "    'FDEL GUTIERREZ': 'FIDEL GUTIERREZ',\n",
    "    'ZAPATA': 'EMILIANO ZAPATA',\n",
    "    'GENARO': 'COL. GENARO ESTRADA',\n",
    "    'GUADALUPE': 'GUADALUPE VICTORIA',\n",
    "    'GPE.': 'GUADALUPE VICTORIA'\n",
    "})\n"
   ]
  },
  {
   "cell_type": "markdown",
   "metadata": {},
   "source": [
    "### vuelvo a filtrar solo las calificaciones de los estudisntes que cumplen las condiciones requeridas"
   ]
  },
  {
   "cell_type": "code",
   "execution_count": 36,
   "metadata": {
    "execution": {
     "iopub.execute_input": "2024-11-29T21:25:57.122259Z",
     "iopub.status.busy": "2024-11-29T21:25:57.121728Z",
     "iopub.status.idle": "2024-11-29T21:25:57.163689Z",
     "shell.execute_reply": "2024-11-29T21:25:57.162503Z",
     "shell.execute_reply.started": "2024-11-29T21:25:57.122194Z"
    },
    "trusted": true
   },
   "outputs": [
    {
     "data": {
      "text/html": [
       "<div>\n",
       "<style scoped>\n",
       "    .dataframe tbody tr th:only-of-type {\n",
       "        vertical-align: middle;\n",
       "    }\n",
       "\n",
       "    .dataframe tbody tr th {\n",
       "        vertical-align: top;\n",
       "    }\n",
       "\n",
       "    .dataframe thead th {\n",
       "        text-align: right;\n",
       "    }\n",
       "</style>\n",
       "<table border=\"1\" class=\"dataframe\">\n",
       "  <thead>\n",
       "    <tr style=\"text-align: right;\">\n",
       "      <th></th>\n",
       "      <th>clave_alumno</th>\n",
       "      <th>clave_carrera</th>\n",
       "      <th>sexo</th>\n",
       "      <th>prepa</th>\n",
       "      <th>colonia</th>\n",
       "      <th>municipio</th>\n",
       "      <th>ciudad</th>\n",
       "      <th>ingreso</th>\n",
       "      <th>termino</th>\n",
       "      <th>causa_salida</th>\n",
       "    </tr>\n",
       "  </thead>\n",
       "  <tbody>\n",
       "    <tr>\n",
       "      <th>607</th>\n",
       "      <td>3327</td>\n",
       "      <td>4</td>\n",
       "      <td>1</td>\n",
       "      <td>121</td>\n",
       "      <td>BUENOS AIRES</td>\n",
       "      <td>25006.0</td>\n",
       "      <td>culiacan</td>\n",
       "      <td>2043.0</td>\n",
       "      <td>NaN</td>\n",
       "      <td>1</td>\n",
       "    </tr>\n",
       "    <tr>\n",
       "      <th>648</th>\n",
       "      <td>4420</td>\n",
       "      <td>4</td>\n",
       "      <td>1</td>\n",
       "      <td>154</td>\n",
       "      <td>El Walamo</td>\n",
       "      <td>25011.0</td>\n",
       "      <td>guasave</td>\n",
       "      <td>2053.0</td>\n",
       "      <td>NaN</td>\n",
       "      <td>1</td>\n",
       "    </tr>\n",
       "    <tr>\n",
       "      <th>662</th>\n",
       "      <td>4434</td>\n",
       "      <td>4</td>\n",
       "      <td>1</td>\n",
       "      <td>127</td>\n",
       "      <td>Alcanfores</td>\n",
       "      <td>25018.0</td>\n",
       "      <td>aguaruto</td>\n",
       "      <td>2053.0</td>\n",
       "      <td>NaN</td>\n",
       "      <td>1</td>\n",
       "    </tr>\n",
       "    <tr>\n",
       "      <th>668</th>\n",
       "      <td>4440</td>\n",
       "      <td>4</td>\n",
       "      <td>1</td>\n",
       "      <td>117</td>\n",
       "      <td>Los Angeles</td>\n",
       "      <td>25006.0</td>\n",
       "      <td>culiacan</td>\n",
       "      <td>2053.0</td>\n",
       "      <td>NaN</td>\n",
       "      <td>1</td>\n",
       "    </tr>\n",
       "    <tr>\n",
       "      <th>671</th>\n",
       "      <td>4443</td>\n",
       "      <td>4</td>\n",
       "      <td>1</td>\n",
       "      <td>142</td>\n",
       "      <td>NaN</td>\n",
       "      <td>25002.0</td>\n",
       "      <td>angostura</td>\n",
       "      <td>2053.0</td>\n",
       "      <td>NaN</td>\n",
       "      <td>1</td>\n",
       "    </tr>\n",
       "    <tr>\n",
       "      <th>...</th>\n",
       "      <td>...</td>\n",
       "      <td>...</td>\n",
       "      <td>...</td>\n",
       "      <td>...</td>\n",
       "      <td>...</td>\n",
       "      <td>...</td>\n",
       "      <td>...</td>\n",
       "      <td>...</td>\n",
       "      <td>...</td>\n",
       "      <td>...</td>\n",
       "    </tr>\n",
       "    <tr>\n",
       "      <th>11930</th>\n",
       "      <td>11738</td>\n",
       "      <td>8</td>\n",
       "      <td>2</td>\n",
       "      <td>98</td>\n",
       "      <td>Fovissste Playa Azul</td>\n",
       "      <td>25006.0</td>\n",
       "      <td>culiacan</td>\n",
       "      <td>2103.0</td>\n",
       "      <td>NaN</td>\n",
       "      <td>1</td>\n",
       "    </tr>\n",
       "    <tr>\n",
       "      <th>11931</th>\n",
       "      <td>11739</td>\n",
       "      <td>8</td>\n",
       "      <td>1</td>\n",
       "      <td>91</td>\n",
       "      <td>LA</td>\n",
       "      <td>25006.0</td>\n",
       "      <td>culiacan</td>\n",
       "      <td>2103.0</td>\n",
       "      <td>NaN</td>\n",
       "      <td>1</td>\n",
       "    </tr>\n",
       "    <tr>\n",
       "      <th>11932</th>\n",
       "      <td>11740</td>\n",
       "      <td>8</td>\n",
       "      <td>1</td>\n",
       "      <td>71</td>\n",
       "      <td>BALCONES DE NUEVO CULIACAN</td>\n",
       "      <td>25006.0</td>\n",
       "      <td>culiacan</td>\n",
       "      <td>2103.0</td>\n",
       "      <td>NaN</td>\n",
       "      <td>1</td>\n",
       "    </tr>\n",
       "    <tr>\n",
       "      <th>11933</th>\n",
       "      <td>11825</td>\n",
       "      <td>8</td>\n",
       "      <td>1</td>\n",
       "      <td>26</td>\n",
       "      <td>San Miguel</td>\n",
       "      <td>25006.0</td>\n",
       "      <td>culiacan</td>\n",
       "      <td>2103.0</td>\n",
       "      <td>NaN</td>\n",
       "      <td>1</td>\n",
       "    </tr>\n",
       "    <tr>\n",
       "      <th>11934</th>\n",
       "      <td>11831</td>\n",
       "      <td>8</td>\n",
       "      <td>1</td>\n",
       "      <td>70</td>\n",
       "      <td>ADOLFO LOPEZ MATEOS</td>\n",
       "      <td>25006.0</td>\n",
       "      <td>culiacan</td>\n",
       "      <td>2103.0</td>\n",
       "      <td>NaN</td>\n",
       "      <td>1</td>\n",
       "    </tr>\n",
       "  </tbody>\n",
       "</table>\n",
       "<p>4076 rows × 10 columns</p>\n",
       "</div>"
      ],
      "text/plain": [
       "       clave_alumno  clave_carrera  sexo  prepa                     colonia  \\\n",
       "607            3327              4     1    121                BUENOS AIRES   \n",
       "648            4420              4     1    154                   El Walamo   \n",
       "662            4434              4     1    127                  Alcanfores   \n",
       "668            4440              4     1    117                 Los Angeles   \n",
       "671            4443              4     1    142                         NaN   \n",
       "...             ...            ...   ...    ...                         ...   \n",
       "11930         11738              8     2     98        Fovissste Playa Azul   \n",
       "11931         11739              8     1     91                          LA   \n",
       "11932         11740              8     1     71  BALCONES DE NUEVO CULIACAN   \n",
       "11933         11825              8     1     26                  San Miguel   \n",
       "11934         11831              8     1     70         ADOLFO LOPEZ MATEOS   \n",
       "\n",
       "       municipio     ciudad  ingreso  termino  causa_salida  \n",
       "607      25006.0   culiacan   2043.0      NaN             1  \n",
       "648      25011.0    guasave   2053.0      NaN             1  \n",
       "662      25018.0   aguaruto   2053.0      NaN             1  \n",
       "668      25006.0   culiacan   2053.0      NaN             1  \n",
       "671      25002.0  angostura   2053.0      NaN             1  \n",
       "...          ...        ...      ...      ...           ...  \n",
       "11930    25006.0   culiacan   2103.0      NaN             1  \n",
       "11931    25006.0   culiacan   2103.0      NaN             1  \n",
       "11932    25006.0   culiacan   2103.0      NaN             1  \n",
       "11933    25006.0   culiacan   2103.0      NaN             1  \n",
       "11934    25006.0   culiacan   2103.0      NaN             1  \n",
       "\n",
       "[4076 rows x 10 columns]"
      ]
     },
     "execution_count": 36,
     "metadata": {},
     "output_type": "execute_result"
    }
   ],
   "source": [
    "correcta4 = pd.merge(calificaciones, correcta3[['clave_alumno']], left_on='clave_alumno', right_on='clave_alumno', how='inner')\n",
    "correcta4.sort_values('clave_alumno')\n",
    "\n",
    "\n",
    "correcta3"
   ]
  },
  {
   "cell_type": "markdown",
   "metadata": {},
   "source": [
    "### Eliminamos las colonias que tienen tres o menos caracteres en el dataset"
   ]
  },
  {
   "cell_type": "code",
   "execution_count": 37,
   "metadata": {
    "execution": {
     "iopub.execute_input": "2024-11-29T21:35:16.637942Z",
     "iopub.status.busy": "2024-11-29T21:35:16.637527Z",
     "iopub.status.idle": "2024-11-29T21:35:16.666882Z",
     "shell.execute_reply": "2024-11-29T21:35:16.665815Z",
     "shell.execute_reply.started": "2024-11-29T21:35:16.637907Z"
    },
    "trusted": true
   },
   "outputs": [],
   "source": [
    "# Eliminar las colonias que tienes 3 o menos caracteres en el dataset\n",
    "filtro = correcta3['colonia'].dropna().apply(len).between(1, 3)\n",
    "filtro = filtro.reindex(correcta3.index, fill_value=False)\n",
    "correcta3 = correcta3[~filtro]\n",
    "correcta3.reset_index(drop=True, inplace=True)\n",
    "#correcta3\n",
    "\n"
   ]
  },
  {
   "cell_type": "markdown",
   "metadata": {},
   "source": [
    "### Asignamos el nombre de la ciudad o cabecera principal a los municipios con una clave especifica de dicho municipio"
   ]
  },
  {
   "cell_type": "code",
   "execution_count": 38,
   "metadata": {},
   "outputs": [
    {
     "name": "stderr",
     "output_type": "stream",
     "text": [
      "C:\\Users\\mari_\\AppData\\Local\\Temp\\ipykernel_6256\\4072386065.py:2: SettingWithCopyWarning: \n",
      "A value is trying to be set on a copy of a slice from a DataFrame.\n",
      "Try using .loc[row_indexer,col_indexer] = value instead\n",
      "\n",
      "See the caveats in the documentation: https://pandas.pydata.org/pandas-docs/stable/user_guide/indexing.html#returning-a-view-versus-a-copy\n",
      "  correcta3['ciudad'] = correcta3['municipio'].apply(lambda x: 'Los Mochis' if x == 25001 else 'Angostura' if x == 25002 else 'Badiraguato' if x == 25003 else 'Concordia' if x == 25004 else 'Cosala' if x == 25005 else 'Culiacan' if x == 25006 else 'Choix' if x == 25007 else 'La Cruz' if x == 25008 else 'Escuinapa' if x == 25009 else 'El Fuerte' if x == 25010 else 'Guasave' if x == 25011 else 'Mazatlan' if x == 25012 else 'Mocorito' if x == 25013 else 'Rosario' if x == 25014 else 'Guamuchil' if x == 25015 else 'San Ignacio' if x == 25016 else 'Sinaloa de Leyva' if x == 25017 else 'Navolato' if x == 25018 else 'ElDorado' if x == 25019 else 'Juan Jose Rios' if x == 25020 else 'No encontrado')\n",
      "C:\\Users\\mari_\\AppData\\Local\\Temp\\ipykernel_6256\\4072386065.py:9: SettingWithCopyWarning: \n",
      "A value is trying to be set on a copy of a slice from a DataFrame.\n",
      "Try using .loc[row_indexer,col_indexer] = value instead\n",
      "\n",
      "See the caveats in the documentation: https://pandas.pydata.org/pandas-docs/stable/user_guide/indexing.html#returning-a-view-versus-a-copy\n",
      "  correcta3['municipio'] = correcta3['municipio'].apply(lambda x: clave_cul if x not in clave_municipios else x)\n"
     ]
    }
   ],
   "source": [
    "#los municipios con clave le asignamos su ciudad correspondiente\n",
    "correcta3['ciudad'] = correcta3['municipio'].apply(lambda x: 'Los Mochis' if x == 25001 else 'Angostura' if x == 25002 else 'Badiraguato' if x == 25003 else 'Concordia' if x == 25004 else 'Cosala' if x == 25005 else 'Culiacan' if x == 25006 else 'Choix' if x == 25007 else 'La Cruz' if x == 25008 else 'Escuinapa' if x == 25009 else 'El Fuerte' if x == 25010 else 'Guasave' if x == 25011 else 'Mazatlan' if x == 25012 else 'Mocorito' if x == 25013 else 'Rosario' if x == 25014 else 'Guamuchil' if x == 25015 else 'San Ignacio' if x == 25016 else 'Sinaloa de Leyva' if x == 25017 else 'Navolato' if x == 25018 else 'ElDorado' if x == 25019 else 'Juan Jose Rios' if x == 25020 else 'No encontrado')\n",
    "#para los municipios que no tienen bien su clave se le asignan por default a culiacan\n",
    "clave_municipios = [25001, 25002, 25003, 25004, 25005, 25006, 25007, 25008, 25009, 25010, 25011, 25012, 25013, 25014, 25015, 25016, 25017, 25018, 25019, 25020]\n",
    "clave_cul = 25006\n",
    "#si no esta en la lista de claves de municipios se le asigna a culiacan\n",
    "correcta3.loc[~correcta3['municipio'].isin(clave_municipios), 'ciudad'] = 'Culiacan'\n",
    "#ahora cambiamos los municipios que estan mal a la clave de culiacan\n",
    "correcta3['municipio'] = correcta3['municipio'].apply(lambda x: clave_cul if x not in clave_municipios else x)"
   ]
  },
  {
   "cell_type": "markdown",
   "metadata": {},
   "source": [
    "### Combinamos el excel de carreras con sus respectivos alumnos en correcta3"
   ]
  },
  {
   "cell_type": "code",
   "execution_count": 39,
   "metadata": {},
   "outputs": [],
   "source": [
    "#usando el excel correcta3 y el excel de carreras, pondremos en correcta3 una columna del nombre de la carrera con\n",
    "#respecto a la clave de la carrera\n",
    "#correcta3 = pd.merge(correcta3, carreras[['clave_carrera', 'nombre']], left_on='clave_carrera', right_on='clave_carrera', how='left')\n",
    "#correcta3.rename(columns={'nombre': 'carrera'}, inplace=True)\n",
    "#correcta3\n",
    "#correcta3.to_csv('correcta.csv', index=False)"
   ]
  },
  {
   "cell_type": "code",
   "execution_count": 40,
   "metadata": {},
   "outputs": [
    {
     "data": {
      "text/html": [
       "<div>\n",
       "<style scoped>\n",
       "    .dataframe tbody tr th:only-of-type {\n",
       "        vertical-align: middle;\n",
       "    }\n",
       "\n",
       "    .dataframe tbody tr th {\n",
       "        vertical-align: top;\n",
       "    }\n",
       "\n",
       "    .dataframe thead th {\n",
       "        text-align: right;\n",
       "    }\n",
       "</style>\n",
       "<table border=\"1\" class=\"dataframe\">\n",
       "  <thead>\n",
       "    <tr style=\"text-align: right;\">\n",
       "      <th></th>\n",
       "      <th>clave_alumno</th>\n",
       "      <th>clave_carrera</th>\n",
       "      <th>sexo</th>\n",
       "      <th>prepa</th>\n",
       "      <th>colonia</th>\n",
       "      <th>municipio</th>\n",
       "      <th>ciudad</th>\n",
       "      <th>ingreso</th>\n",
       "      <th>termino</th>\n",
       "      <th>causa_salida</th>\n",
       "      <th>nombre</th>\n",
       "      <th>corto</th>\n",
       "    </tr>\n",
       "  </thead>\n",
       "  <tbody>\n",
       "    <tr>\n",
       "      <th>0</th>\n",
       "      <td>3327</td>\n",
       "      <td>4</td>\n",
       "      <td>1</td>\n",
       "      <td>121</td>\n",
       "      <td>BUENOS AIRES</td>\n",
       "      <td>25006.0</td>\n",
       "      <td>Culiacan</td>\n",
       "      <td>2043.0</td>\n",
       "      <td>NaN</td>\n",
       "      <td>1</td>\n",
       "      <td>INGENIERIA ELECTRONICA</td>\n",
       "      <td>Electronica</td>\n",
       "    </tr>\n",
       "    <tr>\n",
       "      <th>1</th>\n",
       "      <td>4420</td>\n",
       "      <td>4</td>\n",
       "      <td>1</td>\n",
       "      <td>154</td>\n",
       "      <td>El Walamo</td>\n",
       "      <td>25011.0</td>\n",
       "      <td>Guasave</td>\n",
       "      <td>2053.0</td>\n",
       "      <td>NaN</td>\n",
       "      <td>1</td>\n",
       "      <td>INGENIERIA ELECTRONICA</td>\n",
       "      <td>Electronica</td>\n",
       "    </tr>\n",
       "    <tr>\n",
       "      <th>2</th>\n",
       "      <td>4434</td>\n",
       "      <td>4</td>\n",
       "      <td>1</td>\n",
       "      <td>127</td>\n",
       "      <td>Alcanfores</td>\n",
       "      <td>25018.0</td>\n",
       "      <td>Navolato</td>\n",
       "      <td>2053.0</td>\n",
       "      <td>NaN</td>\n",
       "      <td>1</td>\n",
       "      <td>INGENIERIA ELECTRONICA</td>\n",
       "      <td>Electronica</td>\n",
       "    </tr>\n",
       "    <tr>\n",
       "      <th>3</th>\n",
       "      <td>4440</td>\n",
       "      <td>4</td>\n",
       "      <td>1</td>\n",
       "      <td>117</td>\n",
       "      <td>Los Angeles</td>\n",
       "      <td>25006.0</td>\n",
       "      <td>Culiacan</td>\n",
       "      <td>2053.0</td>\n",
       "      <td>NaN</td>\n",
       "      <td>1</td>\n",
       "      <td>INGENIERIA ELECTRONICA</td>\n",
       "      <td>Electronica</td>\n",
       "    </tr>\n",
       "    <tr>\n",
       "      <th>4</th>\n",
       "      <td>4443</td>\n",
       "      <td>4</td>\n",
       "      <td>1</td>\n",
       "      <td>142</td>\n",
       "      <td>NaN</td>\n",
       "      <td>25002.0</td>\n",
       "      <td>Angostura</td>\n",
       "      <td>2053.0</td>\n",
       "      <td>NaN</td>\n",
       "      <td>1</td>\n",
       "      <td>INGENIERIA ELECTRONICA</td>\n",
       "      <td>Electronica</td>\n",
       "    </tr>\n",
       "    <tr>\n",
       "      <th>...</th>\n",
       "      <td>...</td>\n",
       "      <td>...</td>\n",
       "      <td>...</td>\n",
       "      <td>...</td>\n",
       "      <td>...</td>\n",
       "      <td>...</td>\n",
       "      <td>...</td>\n",
       "      <td>...</td>\n",
       "      <td>...</td>\n",
       "      <td>...</td>\n",
       "      <td>...</td>\n",
       "      <td>...</td>\n",
       "    </tr>\n",
       "    <tr>\n",
       "      <th>3672</th>\n",
       "      <td>11737</td>\n",
       "      <td>8</td>\n",
       "      <td>1</td>\n",
       "      <td>153</td>\n",
       "      <td>San Joaquin</td>\n",
       "      <td>25006.0</td>\n",
       "      <td>Culiacan</td>\n",
       "      <td>2103.0</td>\n",
       "      <td>NaN</td>\n",
       "      <td>1</td>\n",
       "      <td>INGENIERIA EN TECNOLOGIAS DE LA INFORMACION Y ...</td>\n",
       "      <td>TIC</td>\n",
       "    </tr>\n",
       "    <tr>\n",
       "      <th>3673</th>\n",
       "      <td>11738</td>\n",
       "      <td>8</td>\n",
       "      <td>2</td>\n",
       "      <td>98</td>\n",
       "      <td>Fovissste Playa Azul</td>\n",
       "      <td>25006.0</td>\n",
       "      <td>Culiacan</td>\n",
       "      <td>2103.0</td>\n",
       "      <td>NaN</td>\n",
       "      <td>1</td>\n",
       "      <td>INGENIERIA EN TECNOLOGIAS DE LA INFORMACION Y ...</td>\n",
       "      <td>TIC</td>\n",
       "    </tr>\n",
       "    <tr>\n",
       "      <th>3674</th>\n",
       "      <td>11740</td>\n",
       "      <td>8</td>\n",
       "      <td>1</td>\n",
       "      <td>71</td>\n",
       "      <td>BALCONES DE NUEVO CULIACAN</td>\n",
       "      <td>25006.0</td>\n",
       "      <td>Culiacan</td>\n",
       "      <td>2103.0</td>\n",
       "      <td>NaN</td>\n",
       "      <td>1</td>\n",
       "      <td>INGENIERIA EN TECNOLOGIAS DE LA INFORMACION Y ...</td>\n",
       "      <td>TIC</td>\n",
       "    </tr>\n",
       "    <tr>\n",
       "      <th>3675</th>\n",
       "      <td>11825</td>\n",
       "      <td>8</td>\n",
       "      <td>1</td>\n",
       "      <td>26</td>\n",
       "      <td>San Miguel</td>\n",
       "      <td>25006.0</td>\n",
       "      <td>Culiacan</td>\n",
       "      <td>2103.0</td>\n",
       "      <td>NaN</td>\n",
       "      <td>1</td>\n",
       "      <td>INGENIERIA EN TECNOLOGIAS DE LA INFORMACION Y ...</td>\n",
       "      <td>TIC</td>\n",
       "    </tr>\n",
       "    <tr>\n",
       "      <th>3676</th>\n",
       "      <td>11831</td>\n",
       "      <td>8</td>\n",
       "      <td>1</td>\n",
       "      <td>70</td>\n",
       "      <td>ADOLFO LOPEZ MATEOS</td>\n",
       "      <td>25006.0</td>\n",
       "      <td>Culiacan</td>\n",
       "      <td>2103.0</td>\n",
       "      <td>NaN</td>\n",
       "      <td>1</td>\n",
       "      <td>INGENIERIA EN TECNOLOGIAS DE LA INFORMACION Y ...</td>\n",
       "      <td>TIC</td>\n",
       "    </tr>\n",
       "  </tbody>\n",
       "</table>\n",
       "<p>3677 rows × 12 columns</p>\n",
       "</div>"
      ],
      "text/plain": [
       "      clave_alumno  clave_carrera  sexo  prepa                     colonia  \\\n",
       "0             3327              4     1    121                BUENOS AIRES   \n",
       "1             4420              4     1    154                   El Walamo   \n",
       "2             4434              4     1    127                  Alcanfores   \n",
       "3             4440              4     1    117                 Los Angeles   \n",
       "4             4443              4     1    142                         NaN   \n",
       "...            ...            ...   ...    ...                         ...   \n",
       "3672         11737              8     1    153                 San Joaquin   \n",
       "3673         11738              8     2     98        Fovissste Playa Azul   \n",
       "3674         11740              8     1     71  BALCONES DE NUEVO CULIACAN   \n",
       "3675         11825              8     1     26                  San Miguel   \n",
       "3676         11831              8     1     70         ADOLFO LOPEZ MATEOS   \n",
       "\n",
       "      municipio     ciudad  ingreso  termino  causa_salida  \\\n",
       "0       25006.0   Culiacan   2043.0      NaN             1   \n",
       "1       25011.0    Guasave   2053.0      NaN             1   \n",
       "2       25018.0   Navolato   2053.0      NaN             1   \n",
       "3       25006.0   Culiacan   2053.0      NaN             1   \n",
       "4       25002.0  Angostura   2053.0      NaN             1   \n",
       "...         ...        ...      ...      ...           ...   \n",
       "3672    25006.0   Culiacan   2103.0      NaN             1   \n",
       "3673    25006.0   Culiacan   2103.0      NaN             1   \n",
       "3674    25006.0   Culiacan   2103.0      NaN             1   \n",
       "3675    25006.0   Culiacan   2103.0      NaN             1   \n",
       "3676    25006.0   Culiacan   2103.0      NaN             1   \n",
       "\n",
       "                                                 nombre        corto  \n",
       "0                                INGENIERIA ELECTRONICA  Electronica  \n",
       "1                                INGENIERIA ELECTRONICA  Electronica  \n",
       "2                                INGENIERIA ELECTRONICA  Electronica  \n",
       "3                                INGENIERIA ELECTRONICA  Electronica  \n",
       "4                                INGENIERIA ELECTRONICA  Electronica  \n",
       "...                                                 ...          ...  \n",
       "3672  INGENIERIA EN TECNOLOGIAS DE LA INFORMACION Y ...          TIC  \n",
       "3673  INGENIERIA EN TECNOLOGIAS DE LA INFORMACION Y ...          TIC  \n",
       "3674  INGENIERIA EN TECNOLOGIAS DE LA INFORMACION Y ...          TIC  \n",
       "3675  INGENIERIA EN TECNOLOGIAS DE LA INFORMACION Y ...          TIC  \n",
       "3676  INGENIERIA EN TECNOLOGIAS DE LA INFORMACION Y ...          TIC  \n",
       "\n",
       "[3677 rows x 12 columns]"
      ]
     },
     "execution_count": 40,
     "metadata": {},
     "output_type": "execute_result"
    }
   ],
   "source": [
    "nuevo = pd.merge(correcta3,carreras,how='inner',on='clave_carrera')\n",
    "nuevo"
   ]
  }
 ],
 "metadata": {
  "kaggle": {
   "accelerator": "none",
   "dataSources": [
    {
     "datasetId": 6070837,
     "sourceId": 9885954,
     "sourceType": "datasetVersion"
    },
    {
     "datasetId": 6070967,
     "sourceId": 9886110,
     "sourceType": "datasetVersion"
    },
    {
     "datasetId": 6139310,
     "sourceId": 9977783,
     "sourceType": "datasetVersion"
    }
   ],
   "dockerImageVersionId": 30786,
   "isGpuEnabled": false,
   "isInternetEnabled": false,
   "language": "python",
   "sourceType": "notebook"
  },
  "kernelspec": {
   "display_name": "Python 3",
   "language": "python",
   "name": "python3"
  },
  "language_info": {
   "codemirror_mode": {
    "name": "ipython",
    "version": 3
   },
   "file_extension": ".py",
   "mimetype": "text/x-python",
   "name": "python",
   "nbconvert_exporter": "python",
   "pygments_lexer": "ipython3",
   "version": "3.12.5"
  }
 },
 "nbformat": 4,
 "nbformat_minor": 4
}
